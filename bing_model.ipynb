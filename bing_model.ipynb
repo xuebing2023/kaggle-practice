{
 "cells": [
  {
   "cell_type": "code",
   "execution_count": null,
   "metadata": {},
   "outputs": [],
   "source": [
    "def generate_features(df):\n",
    "    features = ['seconds_in_bucket'\n",
    "                , 'imbalance_buy_sell_flag'\n",
    "                , 'imbalance_size'\n",
    "                , 'matched_size'\n",
    "                , 'bid_size'\n",
    "                , 'ask_size'\n",
    "                , 'reference_price'\n",
    "                ,'far_price'\n",
    "                , 'near_price'\n",
    "                , 'ask_price'\n",
    "                , 'bid_price'\n",
    "                , 'wap'\n",
    "                , 'imb_s1'\n",
    "                , 'imb_s2']\n",
    "# use the formula instead of the column function\n",
    "    df['imb_s1'] = df.eval('(bid_size-ask_size)/(bid_size+ask_size)')\n",
    "    df['imb_s2'] = df.eval('(imbalance_size-matched_size)/(matched_size+imbalance_size)')\n",
    "    prices = ['reference_price','far_price', 'near_price', 'ask_price', 'bid_price', 'wap']\n",
    "\n",
    "    print(\"Generating 1st set of features...\")\n",
    "    for p1, p2 in tqdm(combinations(prices, 2)):\n",
    "        df[f'{p1}_{p2}_imb'] = df.eval(f'({p1} - {p2})/({p1} + {p2})')\n",
    "        features.append(f'{p1}_{p2}_imb')\n",
    "    \n",
    "\n",
    "    print(\"Generating 2st set of features...\")\n",
    "    for p1, p2, p3 in tqdm(combinations(prices, 3)):\n",
    "        max_p = df[[p1, p2, p3]].max(axis = 1)\n",
    "        min_p = df[[p1, p2, p3]].min(axis = 1)\n",
    "        mid_p = df[[p1, p2, p3]].sum(axis = 1) - max_p - min_p\n",
    "        df[f'{p1}_{p2}_{p3}_imb'] = (max_p - mid_p) / (mid_p - min_p) #normalized p from the 3\n",
    "        features.append(f'{p1}_{p2}_{p3}_imb')\n",
    "\n",
    "    return df    \n",
    "    \n",
    "    \n",
    "df = generate_features(df_train)\n",
    "df.columns"
   ]
  }
 ],
 "metadata": {
  "kernelspec": {
   "display_name": "kaggle",
   "language": "python",
   "name": "python3"
  },
  "language_info": {
   "name": "python",
   "version": "3.10.13"
  }
 },
 "nbformat": 4,
 "nbformat_minor": 2
}
