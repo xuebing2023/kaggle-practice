{
 "cells": [
  {
   "cell_type": "code",
   "execution_count": 6,
   "metadata": {},
   "outputs": [
    {
     "name": "stdout",
     "output_type": "stream",
     "text": [
      "hello\n"
     ]
    }
   ],
   "source": [
    "#import packages and check environment\n",
    "## feature generation\n",
    "import pandas as pd\n",
    "from tqdm import tqdm\n",
    "from itertools import combinations\n",
    "\n",
    "## models\n",
    "import lightgbm as lgb\n",
    "import xgboost as xgb\n",
    "import catboost as cbt\n",
    "import numpy as np\n",
    "import joblib \n",
    "import os \n",
    "\n",
    "\n",
    "print('hello')"
   ]
  },
  {
   "cell_type": "code",
   "execution_count": 3,
   "metadata": {},
   "outputs": [
    {
     "data": {
      "text/html": [
       "<div>\n",
       "<style scoped>\n",
       "    .dataframe tbody tr th:only-of-type {\n",
       "        vertical-align: middle;\n",
       "    }\n",
       "\n",
       "    .dataframe tbody tr th {\n",
       "        vertical-align: top;\n",
       "    }\n",
       "\n",
       "    .dataframe thead th {\n",
       "        text-align: right;\n",
       "    }\n",
       "</style>\n",
       "<table border=\"1\" class=\"dataframe\">\n",
       "  <thead>\n",
       "    <tr style=\"text-align: right;\">\n",
       "      <th></th>\n",
       "      <th>stock_id</th>\n",
       "      <th>date_id</th>\n",
       "      <th>seconds_in_bucket</th>\n",
       "      <th>imbalance_size</th>\n",
       "      <th>imbalance_buy_sell_flag</th>\n",
       "      <th>reference_price</th>\n",
       "      <th>matched_size</th>\n",
       "      <th>far_price</th>\n",
       "      <th>near_price</th>\n",
       "      <th>bid_price</th>\n",
       "      <th>bid_size</th>\n",
       "      <th>ask_price</th>\n",
       "      <th>ask_size</th>\n",
       "      <th>wap</th>\n",
       "      <th>target</th>\n",
       "      <th>time_id</th>\n",
       "      <th>row_id</th>\n",
       "    </tr>\n",
       "  </thead>\n",
       "  <tbody>\n",
       "    <tr>\n",
       "      <th>0</th>\n",
       "      <td>0</td>\n",
       "      <td>0</td>\n",
       "      <td>0</td>\n",
       "      <td>3180602.69</td>\n",
       "      <td>1</td>\n",
       "      <td>0.999812</td>\n",
       "      <td>13380276.64</td>\n",
       "      <td>NaN</td>\n",
       "      <td>NaN</td>\n",
       "      <td>0.999812</td>\n",
       "      <td>60651.50</td>\n",
       "      <td>1.000026</td>\n",
       "      <td>8493.03</td>\n",
       "      <td>1.0</td>\n",
       "      <td>-3.029704</td>\n",
       "      <td>0</td>\n",
       "      <td>0_0_0</td>\n",
       "    </tr>\n",
       "    <tr>\n",
       "      <th>1</th>\n",
       "      <td>1</td>\n",
       "      <td>0</td>\n",
       "      <td>0</td>\n",
       "      <td>166603.91</td>\n",
       "      <td>-1</td>\n",
       "      <td>0.999896</td>\n",
       "      <td>1642214.25</td>\n",
       "      <td>NaN</td>\n",
       "      <td>NaN</td>\n",
       "      <td>0.999896</td>\n",
       "      <td>3233.04</td>\n",
       "      <td>1.000660</td>\n",
       "      <td>20605.09</td>\n",
       "      <td>1.0</td>\n",
       "      <td>-5.519986</td>\n",
       "      <td>0</td>\n",
       "      <td>0_0_1</td>\n",
       "    </tr>\n",
       "    <tr>\n",
       "      <th>2</th>\n",
       "      <td>2</td>\n",
       "      <td>0</td>\n",
       "      <td>0</td>\n",
       "      <td>302879.87</td>\n",
       "      <td>-1</td>\n",
       "      <td>0.999561</td>\n",
       "      <td>1819368.03</td>\n",
       "      <td>NaN</td>\n",
       "      <td>NaN</td>\n",
       "      <td>0.999403</td>\n",
       "      <td>37956.00</td>\n",
       "      <td>1.000298</td>\n",
       "      <td>18995.00</td>\n",
       "      <td>1.0</td>\n",
       "      <td>-8.389950</td>\n",
       "      <td>0</td>\n",
       "      <td>0_0_2</td>\n",
       "    </tr>\n",
       "    <tr>\n",
       "      <th>3</th>\n",
       "      <td>3</td>\n",
       "      <td>0</td>\n",
       "      <td>0</td>\n",
       "      <td>11917682.27</td>\n",
       "      <td>-1</td>\n",
       "      <td>1.000171</td>\n",
       "      <td>18389745.62</td>\n",
       "      <td>NaN</td>\n",
       "      <td>NaN</td>\n",
       "      <td>0.999999</td>\n",
       "      <td>2324.90</td>\n",
       "      <td>1.000214</td>\n",
       "      <td>479032.40</td>\n",
       "      <td>1.0</td>\n",
       "      <td>-4.010200</td>\n",
       "      <td>0</td>\n",
       "      <td>0_0_3</td>\n",
       "    </tr>\n",
       "    <tr>\n",
       "      <th>4</th>\n",
       "      <td>4</td>\n",
       "      <td>0</td>\n",
       "      <td>0</td>\n",
       "      <td>447549.96</td>\n",
       "      <td>-1</td>\n",
       "      <td>0.999532</td>\n",
       "      <td>17860614.95</td>\n",
       "      <td>NaN</td>\n",
       "      <td>NaN</td>\n",
       "      <td>0.999394</td>\n",
       "      <td>16485.54</td>\n",
       "      <td>1.000016</td>\n",
       "      <td>434.10</td>\n",
       "      <td>1.0</td>\n",
       "      <td>-7.349849</td>\n",
       "      <td>0</td>\n",
       "      <td>0_0_4</td>\n",
       "    </tr>\n",
       "  </tbody>\n",
       "</table>\n",
       "</div>"
      ],
      "text/plain": [
       "   stock_id  date_id  seconds_in_bucket  imbalance_size  \\\n",
       "0         0        0                  0      3180602.69   \n",
       "1         1        0                  0       166603.91   \n",
       "2         2        0                  0       302879.87   \n",
       "3         3        0                  0     11917682.27   \n",
       "4         4        0                  0       447549.96   \n",
       "\n",
       "   imbalance_buy_sell_flag  reference_price  matched_size  far_price  \\\n",
       "0                        1         0.999812   13380276.64        NaN   \n",
       "1                       -1         0.999896    1642214.25        NaN   \n",
       "2                       -1         0.999561    1819368.03        NaN   \n",
       "3                       -1         1.000171   18389745.62        NaN   \n",
       "4                       -1         0.999532   17860614.95        NaN   \n",
       "\n",
       "   near_price  bid_price  bid_size  ask_price   ask_size  wap    target  \\\n",
       "0         NaN   0.999812  60651.50   1.000026    8493.03  1.0 -3.029704   \n",
       "1         NaN   0.999896   3233.04   1.000660   20605.09  1.0 -5.519986   \n",
       "2         NaN   0.999403  37956.00   1.000298   18995.00  1.0 -8.389950   \n",
       "3         NaN   0.999999   2324.90   1.000214  479032.40  1.0 -4.010200   \n",
       "4         NaN   0.999394  16485.54   1.000016     434.10  1.0 -7.349849   \n",
       "\n",
       "   time_id row_id  \n",
       "0        0  0_0_0  \n",
       "1        0  0_0_1  \n",
       "2        0  0_0_2  \n",
       "3        0  0_0_3  \n",
       "4        0  0_0_4  "
      ]
     },
     "execution_count": 3,
     "metadata": {},
     "output_type": "execute_result"
    }
   ],
   "source": [
    "train = pd.read_csv('train.csv')\n",
    "train.head()"
   ]
  },
  {
   "cell_type": "code",
   "execution_count": 4,
   "metadata": {},
   "outputs": [
    {
     "data": {
      "text/plain": [
       "(26455, 17)"
      ]
     },
     "execution_count": 4,
     "metadata": {},
     "output_type": "execute_result"
    }
   ],
   "source": [
    "df_train = train[train['stock_id']==0].copy() # need a copy before modify the original df\n",
    "df_train.shape"
   ]
  },
  {
   "cell_type": "code",
   "execution_count": 5,
   "metadata": {},
   "outputs": [
    {
     "name": "stdout",
     "output_type": "stream",
     "text": [
      "Generating 1st set of features...\n"
     ]
    },
    {
     "name": "stderr",
     "output_type": "stream",
     "text": [
      "15it [00:00, 485.41it/s]\n"
     ]
    },
    {
     "name": "stdout",
     "output_type": "stream",
     "text": [
      "Generating 2st set of features...\n"
     ]
    },
    {
     "name": "stderr",
     "output_type": "stream",
     "text": [
      "20it [00:00, 59.38it/s]\n"
     ]
    },
    {
     "data": {
      "text/plain": [
       "Index(['stock_id', 'date_id', 'seconds_in_bucket', 'imbalance_size',\n",
       "       'imbalance_buy_sell_flag', 'reference_price', 'matched_size',\n",
       "       'far_price', 'near_price', 'bid_price', 'bid_size', 'ask_price',\n",
       "       'ask_size', 'wap', 'target', 'time_id', 'row_id', 'imb_s1', 'imb_s2',\n",
       "       'reference_price_far_price_imb', 'reference_price_near_price_imb',\n",
       "       'reference_price_ask_price_imb', 'reference_price_bid_price_imb',\n",
       "       'reference_price_wap_imb', 'far_price_near_price_imb',\n",
       "       'far_price_ask_price_imb', 'far_price_bid_price_imb',\n",
       "       'far_price_wap_imb', 'near_price_ask_price_imb',\n",
       "       'near_price_bid_price_imb', 'near_price_wap_imb',\n",
       "       'ask_price_bid_price_imb', 'ask_price_wap_imb', 'bid_price_wap_imb',\n",
       "       'reference_price_far_price_near_price_imb',\n",
       "       'reference_price_far_price_ask_price_imb',\n",
       "       'reference_price_far_price_bid_price_imb',\n",
       "       'reference_price_far_price_wap_imb',\n",
       "       'reference_price_near_price_ask_price_imb',\n",
       "       'reference_price_near_price_bid_price_imb',\n",
       "       'reference_price_near_price_wap_imb',\n",
       "       'reference_price_ask_price_bid_price_imb',\n",
       "       'reference_price_ask_price_wap_imb',\n",
       "       'reference_price_bid_price_wap_imb',\n",
       "       'far_price_near_price_ask_price_imb',\n",
       "       'far_price_near_price_bid_price_imb', 'far_price_near_price_wap_imb',\n",
       "       'far_price_ask_price_bid_price_imb', 'far_price_ask_price_wap_imb',\n",
       "       'far_price_bid_price_wap_imb', 'near_price_ask_price_bid_price_imb',\n",
       "       'near_price_ask_price_wap_imb', 'near_price_bid_price_wap_imb',\n",
       "       'ask_price_bid_price_wap_imb'],\n",
       "      dtype='object')"
      ]
     },
     "execution_count": 5,
     "metadata": {},
     "output_type": "execute_result"
    }
   ],
   "source": [
    "def generate_features(df):\n",
    "    features = ['seconds_in_bucket'\n",
    "                , 'imbalance_buy_sell_flag'\n",
    "                , 'imbalance_size'\n",
    "                , 'matched_size'\n",
    "                , 'bid_size'\n",
    "                , 'ask_size'\n",
    "                , 'reference_price'\n",
    "                ,'far_price'\n",
    "                , 'near_price'\n",
    "                , 'ask_price'\n",
    "                , 'bid_price'\n",
    "                , 'wap'\n",
    "                , 'imb_s1'\n",
    "                , 'imb_s2']\n",
    "# use the formula instead of the column function\n",
    "    df['imb_s1'] = df.eval('(bid_size-ask_size)/(bid_size+ask_size)')\n",
    "    df['imb_s2'] = df.eval('(imbalance_size-matched_size)/(matched_size+imbalance_size)')\n",
    "    prices = ['reference_price','far_price', 'near_price', 'ask_price', 'bid_price', 'wap']\n",
    "\n",
    "    print(\"Generating 1st set of features...\")\n",
    "    for p1, p2 in tqdm(combinations(prices, 2)):\n",
    "        df[f'{p1}_{p2}_imb'] = df.eval(f'({p1} - {p2})/({p1} + {p2})')\n",
    "        features.append(f'{p1}_{p2}_imb')\n",
    "    \n",
    "\n",
    "    print(\"Generating 2st set of features...\")\n",
    "    for p1, p2, p3 in tqdm(combinations(prices, 3)):\n",
    "        max_p = df[[p1, p2, p3]].max(axis = 1)\n",
    "        min_p = df[[p1, p2, p3]].min(axis = 1)\n",
    "        mid_p = df[[p1, p2, p3]].sum(axis = 1) - max_p - min_p\n",
    "        df[f'{p1}_{p2}_{p3}_imb'] = (max_p - mid_p) / (mid_p - min_p) #normalized p from the 3\n",
    "        features.append(f'{p1}_{p2}_{p3}_imb')\n",
    "\n",
    "    return df    \n",
    "    \n",
    "    \n",
    "df = generate_features(df_train)\n",
    "df.columns"
   ]
  },
  {
   "cell_type": "code",
   "execution_count": 6,
   "metadata": {},
   "outputs": [
    {
     "name": "stdout",
     "output_type": "stream",
     "text": [
      "(26455, 53) (26455,)\n",
      "(26455, 53) (26455,) 26455\n"
     ]
    }
   ],
   "source": [
    "X = df.drop(columns = 'target').values\n",
    "y = df['target'].values\n",
    "print(X.shape, y.shape)\n",
    "X = X[np.isfinite(y)]\n",
    "y = y[np.isfinite(y)]\n",
    "idx = np.arange(len(y))\n",
    "print(X.shape, y.shape, len(idx))"
   ]
  },
  {
   "cell_type": "code",
   "execution_count": 7,
   "metadata": {},
   "outputs": [],
   "source": [
    "model_dict = {\n",
    "    'lgb': lgb.LGBMRegressor(objective = 'regression_l1', n_estimators = 50),\n",
    "    'xgb': xgb.XGBRegressor(tree_method = 'hist', objective = 'reg: absoluteerror', n_estimators = 50),\n",
    "    'cbt': cbt.CatBoostRegressor(objective = 'MAE', iterations = 300)\n",
    "}\n"
   ]
  },
  {
   "cell_type": "code",
   "execution_count": 3,
   "metadata": {},
   "outputs": [
    {
     "ename": "NameError",
     "evalue": "name 'lgb' is not defined",
     "output_type": "error",
     "traceback": [
      "\u001b[0;31m---------------------------------------------------------------------------\u001b[0m",
      "\u001b[0;31mNameError\u001b[0m                                 Traceback (most recent call last)",
      "\u001b[1;32m/home/bing/kaggle/optiver-trading-at-the-close/bing_model.ipynb Cell 8\u001b[0m line \u001b[0;36m4\n\u001b[1;32m      <a href='vscode-notebook-cell://ssh-remote%2Bbing-nexa-ai/home/bing/kaggle/optiver-trading-at-the-close/bing_model.ipynb#X10sdnNjb2RlLXJlbW90ZQ%3D%3D?line=1'>2</a>\u001b[0m n_fold \u001b[39m=\u001b[39m \u001b[39m3\u001b[39m\n\u001b[1;32m      <a href='vscode-notebook-cell://ssh-remote%2Bbing-nexa-ai/home/bing/kaggle/optiver-trading-at-the-close/bing_model.ipynb#X10sdnNjb2RlLXJlbW90ZQ%3D%3D?line=2'>3</a>\u001b[0m cur_fold \u001b[39m=\u001b[39m \u001b[39m1\u001b[39m\n\u001b[0;32m----> <a href='vscode-notebook-cell://ssh-remote%2Bbing-nexa-ai/home/bing/kaggle/optiver-trading-at-the-close/bing_model.ipynb#X10sdnNjb2RlLXJlbW90ZQ%3D%3D?line=3'>4</a>\u001b[0m model \u001b[39m=\u001b[39m lgb\u001b[39m.\u001b[39mLGBMRegressor(objective \u001b[39m=\u001b[39m \u001b[39m'\u001b[39m\u001b[39mregression_l1\u001b[39m\u001b[39m'\u001b[39m, n_estimators \u001b[39m=\u001b[39m \u001b[39m50\u001b[39m)\n\u001b[1;32m      <a href='vscode-notebook-cell://ssh-remote%2Bbing-nexa-ai/home/bing/kaggle/optiver-trading-at-the-close/bing_model.ipynb#X10sdnNjb2RlLXJlbW90ZQ%3D%3D?line=4'>5</a>\u001b[0m model\u001b[39m.\u001b[39mfit(X[idx \u001b[39m%\u001b[39m n_fold \u001b[39m!=\u001b[39m cur_fold],y[idx \u001b[39m%\u001b[39m n_fold \u001b[39m!=\u001b[39m cur_fold],\n\u001b[1;32m      <a href='vscode-notebook-cell://ssh-remote%2Bbing-nexa-ai/home/bing/kaggle/optiver-trading-at-the-close/bing_model.ipynb#X10sdnNjb2RlLXJlbW90ZQ%3D%3D?line=5'>6</a>\u001b[0m           eval_set \u001b[39m=\u001b[39m [X[idx \u001b[39m%\u001b[39m n_fold \u001b[39m==\u001b[39m cur_fold],y[idx \u001b[39m%\u001b[39m n_fold \u001b[39m==\u001b[39m cur_fold]])\n\u001b[1;32m      <a href='vscode-notebook-cell://ssh-remote%2Bbing-nexa-ai/home/bing/kaggle/optiver-trading-at-the-close/bing_model.ipynb#X10sdnNjb2RlLXJlbW90ZQ%3D%3D?line=6'>7</a>\u001b[0m models\u001b[39m.\u001b[39mappend(model)\n",
      "\u001b[0;31mNameError\u001b[0m: name 'lgb' is not defined"
     ]
    }
   ],
   "source": [
    "models = []\n",
    "n_fold = 3\n",
    "cur_fold = 1\n",
    "model = lgb.LGBMRegressor(objective = 'regression_l1', n_estimators = 50)\n",
    "model.fit(X[idx % n_fold != cur_fold],y[idx % n_fold != cur_fold],\n",
    "          eval_set = [X[idx % n_fold == cur_fold],y[idx % n_fold == cur_fold]])\n",
    "models.append(model)\n",
    "models"
   ]
  },
  {
   "cell_type": "code",
   "execution_count": null,
   "metadata": {},
   "outputs": [],
   "source": [
    "model = model_dict[model_name]\n",
    "model.fit(X[idx % n_fold != cur_fold], y[idx % n_fold != cur_fold],\n",
    "        eval_set = [X[idx % n_fold == cur_fold], y[idx % n_fold == cur_fold]])\n",
    "models.append(model)"
   ]
  },
  {
   "cell_type": "code",
   "execution_count": 14,
   "metadata": {},
   "outputs": [
    {
     "name": "stdout",
     "output_type": "stream",
     "text": [
      "[LightGBM] [Info] Auto-choosing col-wise multi-threading, the overhead of testing was 0.002386 seconds.\n",
      "You can set `force_col_wise=true` to remove the overhead.\n",
      "[LightGBM] [Info] Total Bins 12807\n",
      "[LightGBM] [Info] Number of data points in the train set: 17637, number of used features: 52\n"
     ]
    },
    {
     "ename": "ValueError",
     "evalue": "Input numpy.ndarray must be 2 dimensional",
     "output_type": "error",
     "traceback": [
      "\u001b[0;31m---------------------------------------------------------------------------\u001b[0m",
      "\u001b[0;31mValueError\u001b[0m                                Traceback (most recent call last)",
      "\u001b[1;32m/home/bing/kaggle/optiver-trading-at-the-close/bing_model.ipynb Cell 8\u001b[0m line \u001b[0;36m8\n\u001b[1;32m      <a href='vscode-notebook-cell://ssh-remote%2Bbing-nexa-ai/home/bing/kaggle/optiver-trading-at-the-close/bing_model.ipynb#X12sdnNjb2RlLXJlbW90ZQ%3D%3D?line=5'>6</a>\u001b[0m     joblib\u001b[39m.\u001b[39mdump(model, \u001b[39mf\u001b[39m\u001b[39m'\u001b[39m\u001b[39mmodels/\u001b[39m\u001b[39m{\u001b[39;00mmodel_name\u001b[39m}\u001b[39;00m\u001b[39m_\u001b[39m\u001b[39m{\u001b[39;00mcur_fold\u001b[39m}\u001b[39;00m\u001b[39m_model\u001b[39m\u001b[39m'\u001b[39m)\n\u001b[1;32m      <a href='vscode-notebook-cell://ssh-remote%2Bbing-nexa-ai/home/bing/kaggle/optiver-trading-at-the-close/bing_model.ipynb#X12sdnNjb2RlLXJlbW90ZQ%3D%3D?line=6'>7</a>\u001b[0m     \u001b[39mreturn\u001b[39;00m \n\u001b[0;32m----> <a href='vscode-notebook-cell://ssh-remote%2Bbing-nexa-ai/home/bing/kaggle/optiver-trading-at-the-close/bing_model.ipynb#X12sdnNjb2RlLXJlbW90ZQ%3D%3D?line=7'>8</a>\u001b[0m train(model_dict, \u001b[39m'\u001b[39;49m\u001b[39mlgb\u001b[39;49m\u001b[39m'\u001b[39;49m,\u001b[39m1\u001b[39;49m, \u001b[39m3\u001b[39;49m)\n\u001b[1;32m      <a href='vscode-notebook-cell://ssh-remote%2Bbing-nexa-ai/home/bing/kaggle/optiver-trading-at-the-close/bing_model.ipynb#X12sdnNjb2RlLXJlbW90ZQ%3D%3D?line=8'>9</a>\u001b[0m models    \n",
      "\u001b[1;32m/home/bing/kaggle/optiver-trading-at-the-close/bing_model.ipynb Cell 8\u001b[0m line \u001b[0;36m3\n\u001b[1;32m      <a href='vscode-notebook-cell://ssh-remote%2Bbing-nexa-ai/home/bing/kaggle/optiver-trading-at-the-close/bing_model.ipynb#X12sdnNjb2RlLXJlbW90ZQ%3D%3D?line=0'>1</a>\u001b[0m \u001b[39mdef\u001b[39;00m \u001b[39mtrain\u001b[39m(model_dict, model_name, cur_fold, n_fold):\n\u001b[1;32m      <a href='vscode-notebook-cell://ssh-remote%2Bbing-nexa-ai/home/bing/kaggle/optiver-trading-at-the-close/bing_model.ipynb#X12sdnNjb2RlLXJlbW90ZQ%3D%3D?line=1'>2</a>\u001b[0m     model \u001b[39m=\u001b[39m model_dict[model_name]\n\u001b[0;32m----> <a href='vscode-notebook-cell://ssh-remote%2Bbing-nexa-ai/home/bing/kaggle/optiver-trading-at-the-close/bing_model.ipynb#X12sdnNjb2RlLXJlbW90ZQ%3D%3D?line=2'>3</a>\u001b[0m     model\u001b[39m.\u001b[39;49mfit(X[idx \u001b[39m%\u001b[39;49m n_fold \u001b[39m!=\u001b[39;49m cur_fold], y[idx \u001b[39m%\u001b[39;49m n_fold \u001b[39m!=\u001b[39;49m cur_fold],\n\u001b[1;32m      <a href='vscode-notebook-cell://ssh-remote%2Bbing-nexa-ai/home/bing/kaggle/optiver-trading-at-the-close/bing_model.ipynb#X12sdnNjb2RlLXJlbW90ZQ%3D%3D?line=3'>4</a>\u001b[0m             eval_set \u001b[39m=\u001b[39;49m [X[idx \u001b[39m%\u001b[39;49m n_fold \u001b[39m==\u001b[39;49m cur_fold], y[idx \u001b[39m%\u001b[39;49m n_fold \u001b[39m==\u001b[39;49m cur_fold]])\n\u001b[1;32m      <a href='vscode-notebook-cell://ssh-remote%2Bbing-nexa-ai/home/bing/kaggle/optiver-trading-at-the-close/bing_model.ipynb#X12sdnNjb2RlLXJlbW90ZQ%3D%3D?line=4'>5</a>\u001b[0m     models\u001b[39m.\u001b[39mappend(model)\n\u001b[1;32m      <a href='vscode-notebook-cell://ssh-remote%2Bbing-nexa-ai/home/bing/kaggle/optiver-trading-at-the-close/bing_model.ipynb#X12sdnNjb2RlLXJlbW90ZQ%3D%3D?line=5'>6</a>\u001b[0m     joblib\u001b[39m.\u001b[39mdump(model, \u001b[39mf\u001b[39m\u001b[39m'\u001b[39m\u001b[39mmodels/\u001b[39m\u001b[39m{\u001b[39;00mmodel_name\u001b[39m}\u001b[39;00m\u001b[39m_\u001b[39m\u001b[39m{\u001b[39;00mcur_fold\u001b[39m}\u001b[39;00m\u001b[39m_model\u001b[39m\u001b[39m'\u001b[39m)\n",
      "File \u001b[0;32m~/.conda/envs/kaggle/lib/python3.10/site-packages/lightgbm/sklearn.py:1049\u001b[0m, in \u001b[0;36mLGBMRegressor.fit\u001b[0;34m(self, X, y, sample_weight, init_score, eval_set, eval_names, eval_sample_weight, eval_init_score, eval_metric, feature_name, categorical_feature, callbacks, init_model)\u001b[0m\n\u001b[1;32m   1032\u001b[0m \u001b[39mdef\u001b[39;00m \u001b[39mfit\u001b[39m(  \u001b[39m# type: ignore[override]\u001b[39;00m\n\u001b[1;32m   1033\u001b[0m     \u001b[39mself\u001b[39m,\n\u001b[1;32m   1034\u001b[0m     X: _LGBM_ScikitMatrixLike,\n\u001b[0;32m   (...)\u001b[0m\n\u001b[1;32m   1046\u001b[0m     init_model: Optional[Union[\u001b[39mstr\u001b[39m, Path, Booster, LGBMModel]] \u001b[39m=\u001b[39m \u001b[39mNone\u001b[39;00m\n\u001b[1;32m   1047\u001b[0m ) \u001b[39m-\u001b[39m\u001b[39m>\u001b[39m \u001b[39m\"\u001b[39m\u001b[39mLGBMRegressor\u001b[39m\u001b[39m\"\u001b[39m:\n\u001b[1;32m   1048\u001b[0m \u001b[39m    \u001b[39m\u001b[39m\"\"\"Docstring is inherited from the LGBMModel.\"\"\"\u001b[39;00m\n\u001b[0;32m-> 1049\u001b[0m     \u001b[39msuper\u001b[39;49m()\u001b[39m.\u001b[39;49mfit(\n\u001b[1;32m   1050\u001b[0m         X,\n\u001b[1;32m   1051\u001b[0m         y,\n\u001b[1;32m   1052\u001b[0m         sample_weight\u001b[39m=\u001b[39;49msample_weight,\n\u001b[1;32m   1053\u001b[0m         init_score\u001b[39m=\u001b[39;49minit_score,\n\u001b[1;32m   1054\u001b[0m         eval_set\u001b[39m=\u001b[39;49meval_set,\n\u001b[1;32m   1055\u001b[0m         eval_names\u001b[39m=\u001b[39;49meval_names,\n\u001b[1;32m   1056\u001b[0m         eval_sample_weight\u001b[39m=\u001b[39;49meval_sample_weight,\n\u001b[1;32m   1057\u001b[0m         eval_init_score\u001b[39m=\u001b[39;49meval_init_score,\n\u001b[1;32m   1058\u001b[0m         eval_metric\u001b[39m=\u001b[39;49meval_metric,\n\u001b[1;32m   1059\u001b[0m         feature_name\u001b[39m=\u001b[39;49mfeature_name,\n\u001b[1;32m   1060\u001b[0m         categorical_feature\u001b[39m=\u001b[39;49mcategorical_feature,\n\u001b[1;32m   1061\u001b[0m         callbacks\u001b[39m=\u001b[39;49mcallbacks,\n\u001b[1;32m   1062\u001b[0m         init_model\u001b[39m=\u001b[39;49minit_model\n\u001b[1;32m   1063\u001b[0m     )\n\u001b[1;32m   1064\u001b[0m     \u001b[39mreturn\u001b[39;00m \u001b[39mself\u001b[39m\n",
      "File \u001b[0;32m~/.conda/envs/kaggle/lib/python3.10/site-packages/lightgbm/sklearn.py:842\u001b[0m, in \u001b[0;36mLGBMModel.fit\u001b[0;34m(self, X, y, sample_weight, init_score, group, eval_set, eval_names, eval_sample_weight, eval_class_weight, eval_init_score, eval_group, eval_metric, feature_name, categorical_feature, callbacks, init_model)\u001b[0m\n\u001b[1;32m    839\u001b[0m evals_result: _EvalResultDict \u001b[39m=\u001b[39m {}\n\u001b[1;32m    840\u001b[0m callbacks\u001b[39m.\u001b[39mappend(record_evaluation(evals_result))\n\u001b[0;32m--> 842\u001b[0m \u001b[39mself\u001b[39m\u001b[39m.\u001b[39m_Booster \u001b[39m=\u001b[39m train(\n\u001b[1;32m    843\u001b[0m     params\u001b[39m=\u001b[39;49mparams,\n\u001b[1;32m    844\u001b[0m     train_set\u001b[39m=\u001b[39;49mtrain_set,\n\u001b[1;32m    845\u001b[0m     num_boost_round\u001b[39m=\u001b[39;49m\u001b[39mself\u001b[39;49m\u001b[39m.\u001b[39;49mn_estimators,\n\u001b[1;32m    846\u001b[0m     valid_sets\u001b[39m=\u001b[39;49mvalid_sets,\n\u001b[1;32m    847\u001b[0m     valid_names\u001b[39m=\u001b[39;49meval_names,\n\u001b[1;32m    848\u001b[0m     feval\u001b[39m=\u001b[39;49meval_metrics_callable,  \u001b[39m# type: ignore[arg-type]\u001b[39;49;00m\n\u001b[1;32m    849\u001b[0m     init_model\u001b[39m=\u001b[39;49minit_model,\n\u001b[1;32m    850\u001b[0m     feature_name\u001b[39m=\u001b[39;49mfeature_name,\n\u001b[1;32m    851\u001b[0m     callbacks\u001b[39m=\u001b[39;49mcallbacks\n\u001b[1;32m    852\u001b[0m )\n\u001b[1;32m    854\u001b[0m \u001b[39mself\u001b[39m\u001b[39m.\u001b[39m_evals_result \u001b[39m=\u001b[39m evals_result\n\u001b[1;32m    855\u001b[0m \u001b[39mself\u001b[39m\u001b[39m.\u001b[39m_best_iteration \u001b[39m=\u001b[39m \u001b[39mself\u001b[39m\u001b[39m.\u001b[39m_Booster\u001b[39m.\u001b[39mbest_iteration\n",
      "File \u001b[0;32m~/.conda/envs/kaggle/lib/python3.10/site-packages/lightgbm/engine.py:259\u001b[0m, in \u001b[0;36mtrain\u001b[0;34m(params, train_set, num_boost_round, valid_sets, valid_names, feval, init_model, feature_name, categorical_feature, keep_training_booster, callbacks)\u001b[0m\n\u001b[1;32m    257\u001b[0m         booster\u001b[39m.\u001b[39mset_train_data_name(train_data_name)\n\u001b[1;32m    258\u001b[0m     \u001b[39mfor\u001b[39;00m valid_set, name_valid_set \u001b[39min\u001b[39;00m \u001b[39mzip\u001b[39m(reduced_valid_sets, name_valid_sets):\n\u001b[0;32m--> 259\u001b[0m         booster\u001b[39m.\u001b[39;49madd_valid(valid_set, name_valid_set)\n\u001b[1;32m    260\u001b[0m \u001b[39mfinally\u001b[39;00m:\n\u001b[1;32m    261\u001b[0m     train_set\u001b[39m.\u001b[39m_reverse_update_params()\n",
      "File \u001b[0;32m~/.conda/envs/kaggle/lib/python3.10/site-packages/lightgbm/basic.py:3569\u001b[0m, in \u001b[0;36mBooster.add_valid\u001b[0;34m(self, data, name)\u001b[0m\n\u001b[1;32m   3564\u001b[0m \u001b[39mif\u001b[39;00m data\u001b[39m.\u001b[39m_predictor \u001b[39mis\u001b[39;00m \u001b[39mnot\u001b[39;00m \u001b[39mself\u001b[39m\u001b[39m.\u001b[39m__init_predictor:\n\u001b[1;32m   3565\u001b[0m     \u001b[39mraise\u001b[39;00m LightGBMError(\u001b[39m\"\u001b[39m\u001b[39mAdd validation data failed, \u001b[39m\u001b[39m\"\u001b[39m\n\u001b[1;32m   3566\u001b[0m                         \u001b[39m\"\u001b[39m\u001b[39myou should use same predictor for these data\u001b[39m\u001b[39m\"\u001b[39m)\n\u001b[1;32m   3567\u001b[0m _safe_call(_LIB\u001b[39m.\u001b[39mLGBM_BoosterAddValidData(\n\u001b[1;32m   3568\u001b[0m     \u001b[39mself\u001b[39m\u001b[39m.\u001b[39m_handle,\n\u001b[0;32m-> 3569\u001b[0m     data\u001b[39m.\u001b[39;49mconstruct()\u001b[39m.\u001b[39m_handle))\n\u001b[1;32m   3570\u001b[0m \u001b[39mself\u001b[39m\u001b[39m.\u001b[39mvalid_sets\u001b[39m.\u001b[39mappend(data)\n\u001b[1;32m   3571\u001b[0m \u001b[39mself\u001b[39m\u001b[39m.\u001b[39mname_valid_sets\u001b[39m.\u001b[39mappend(name)\n",
      "File \u001b[0;32m~/.conda/envs/kaggle/lib/python3.10/site-packages/lightgbm/basic.py:2239\u001b[0m, in \u001b[0;36mDataset.construct\u001b[0;34m(self)\u001b[0m\n\u001b[1;32m   2236\u001b[0m     \u001b[39mself\u001b[39m\u001b[39m.\u001b[39m_update_params(reference_params)\n\u001b[1;32m   2237\u001b[0m \u001b[39mif\u001b[39;00m \u001b[39mself\u001b[39m\u001b[39m.\u001b[39mused_indices \u001b[39mis\u001b[39;00m \u001b[39mNone\u001b[39;00m:\n\u001b[1;32m   2238\u001b[0m     \u001b[39m# create valid\u001b[39;00m\n\u001b[0;32m-> 2239\u001b[0m     \u001b[39mself\u001b[39;49m\u001b[39m.\u001b[39;49m_lazy_init(data\u001b[39m=\u001b[39;49m\u001b[39mself\u001b[39;49m\u001b[39m.\u001b[39;49mdata, label\u001b[39m=\u001b[39;49m\u001b[39mself\u001b[39;49m\u001b[39m.\u001b[39;49mlabel, reference\u001b[39m=\u001b[39;49m\u001b[39mself\u001b[39;49m\u001b[39m.\u001b[39;49mreference,\n\u001b[1;32m   2240\u001b[0m                     weight\u001b[39m=\u001b[39;49m\u001b[39mself\u001b[39;49m\u001b[39m.\u001b[39;49mweight, group\u001b[39m=\u001b[39;49m\u001b[39mself\u001b[39;49m\u001b[39m.\u001b[39;49mgroup, position\u001b[39m=\u001b[39;49m\u001b[39mself\u001b[39;49m\u001b[39m.\u001b[39;49mposition,\n\u001b[1;32m   2241\u001b[0m                     init_score\u001b[39m=\u001b[39;49m\u001b[39mself\u001b[39;49m\u001b[39m.\u001b[39;49minit_score, predictor\u001b[39m=\u001b[39;49m\u001b[39mself\u001b[39;49m\u001b[39m.\u001b[39;49m_predictor,\n\u001b[1;32m   2242\u001b[0m                     feature_name\u001b[39m=\u001b[39;49m\u001b[39mself\u001b[39;49m\u001b[39m.\u001b[39;49mfeature_name, categorical_feature\u001b[39m=\u001b[39;49m\u001b[39m'\u001b[39;49m\u001b[39mauto\u001b[39;49m\u001b[39m'\u001b[39;49m, params\u001b[39m=\u001b[39;49m\u001b[39mself\u001b[39;49m\u001b[39m.\u001b[39;49mparams)\n\u001b[1;32m   2243\u001b[0m \u001b[39melse\u001b[39;00m:\n\u001b[1;32m   2244\u001b[0m     \u001b[39m# construct subset\u001b[39;00m\n\u001b[1;32m   2245\u001b[0m     used_indices \u001b[39m=\u001b[39m _list_to_1d_numpy(\u001b[39mself\u001b[39m\u001b[39m.\u001b[39mused_indices, dtype\u001b[39m=\u001b[39mnp\u001b[39m.\u001b[39mint32, name\u001b[39m=\u001b[39m\u001b[39m'\u001b[39m\u001b[39mused_indices\u001b[39m\u001b[39m'\u001b[39m)\n",
      "File \u001b[0;32m~/.conda/envs/kaggle/lib/python3.10/site-packages/lightgbm/basic.py:1918\u001b[0m, in \u001b[0;36mDataset._lazy_init\u001b[0;34m(self, data, label, reference, weight, group, init_score, predictor, feature_name, categorical_feature, params, position)\u001b[0m\n\u001b[1;32m   1916\u001b[0m     \u001b[39mself\u001b[39m\u001b[39m.\u001b[39m__init_from_csc(data, params_str, ref_dataset)\n\u001b[1;32m   1917\u001b[0m \u001b[39melif\u001b[39;00m \u001b[39misinstance\u001b[39m(data, np\u001b[39m.\u001b[39mndarray):\n\u001b[0;32m-> 1918\u001b[0m     \u001b[39mself\u001b[39;49m\u001b[39m.\u001b[39;49m__init_from_np2d(data, params_str, ref_dataset)\n\u001b[1;32m   1919\u001b[0m \u001b[39melif\u001b[39;00m \u001b[39misinstance\u001b[39m(data, \u001b[39mlist\u001b[39m) \u001b[39mand\u001b[39;00m \u001b[39mlen\u001b[39m(data) \u001b[39m>\u001b[39m \u001b[39m0\u001b[39m:\n\u001b[1;32m   1920\u001b[0m     \u001b[39mif\u001b[39;00m \u001b[39mall\u001b[39m(\u001b[39misinstance\u001b[39m(x, np\u001b[39m.\u001b[39mndarray) \u001b[39mfor\u001b[39;00m x \u001b[39min\u001b[39;00m data):\n",
      "File \u001b[0;32m~/.conda/envs/kaggle/lib/python3.10/site-packages/lightgbm/basic.py:2045\u001b[0m, in \u001b[0;36mDataset.__init_from_np2d\u001b[0;34m(self, mat, params_str, ref_dataset)\u001b[0m\n\u001b[1;32m   2043\u001b[0m \u001b[39m\u001b[39m\u001b[39m\"\"\"Initialize data from a 2-D numpy matrix.\"\"\"\u001b[39;00m\n\u001b[1;32m   2044\u001b[0m \u001b[39mif\u001b[39;00m \u001b[39mlen\u001b[39m(mat\u001b[39m.\u001b[39mshape) \u001b[39m!=\u001b[39m \u001b[39m2\u001b[39m:\n\u001b[0;32m-> 2045\u001b[0m     \u001b[39mraise\u001b[39;00m \u001b[39mValueError\u001b[39;00m(\u001b[39m'\u001b[39m\u001b[39mInput numpy.ndarray must be 2 dimensional\u001b[39m\u001b[39m'\u001b[39m)\n\u001b[1;32m   2047\u001b[0m \u001b[39mself\u001b[39m\u001b[39m.\u001b[39m_handle \u001b[39m=\u001b[39m ctypes\u001b[39m.\u001b[39mc_void_p()\n\u001b[1;32m   2048\u001b[0m \u001b[39mif\u001b[39;00m mat\u001b[39m.\u001b[39mdtype \u001b[39m==\u001b[39m np\u001b[39m.\u001b[39mfloat32 \u001b[39mor\u001b[39;00m mat\u001b[39m.\u001b[39mdtype \u001b[39m==\u001b[39m np\u001b[39m.\u001b[39mfloat64:\n",
      "\u001b[0;31mValueError\u001b[0m: Input numpy.ndarray must be 2 dimensional"
     ]
    }
   ],
   "source": [
    "def train(model_dict, model_name, cur_fold, n_fold):\n",
    "    model = model_dict[model_name]\n",
    "    model.fit(X[idx % n_fold != cur_fold], y[idx % n_fold != cur_fold],\n",
    "            eval_set = [X[idx % n_fold == cur_fold], y[idx % n_fold == cur_fold]])\n",
    "    models.append(model)\n",
    "    joblib.dump(model, f'models/{model_name}_{cur_fold}_model')\n",
    "    return \n",
    "\n",
    "train(model_dict, 'lgb',1, 3)\n",
    "models    "
   ]
  },
  {
   "cell_type": "code",
   "execution_count": null,
   "metadata": {},
   "outputs": [],
   "source": []
  },
  {
   "cell_type": "code",
   "execution_count": 14,
   "metadata": {},
   "outputs": [
    {
     "name": "stderr",
     "output_type": "stream",
     "text": [
      "  0%|          | 0/1 [00:00<?, ?it/s]"
     ]
    },
    {
     "name": "stderr",
     "output_type": "stream",
     "text": [
      "  0%|          | 0/1 [00:00<?, ?it/s]\n"
     ]
    },
    {
     "ename": "ValueError",
     "evalue": "Found array with 0 sample(s) (shape=(0, 54)) while a minimum of 2 is required.",
     "output_type": "error",
     "traceback": [
      "\u001b[0;31m---------------------------------------------------------------------------\u001b[0m",
      "\u001b[0;31mValueError\u001b[0m                                Traceback (most recent call last)",
      "\u001b[1;32m/home/bing/kaggle/optiver-trading-at-the-close/bing_model.ipynb Cell 8\u001b[0m line \u001b[0;36m2\n\u001b[1;32m     <a href='vscode-notebook-cell://ssh-remote%2Bbing-nexa-ai/home/bing/kaggle/optiver-trading-at-the-close/bing_model.ipynb#W4sdnNjb2RlLXJlbW90ZQ%3D%3D?line=22'>23</a>\u001b[0m     \u001b[39mreturn\u001b[39;00m \n\u001b[1;32m     <a href='vscode-notebook-cell://ssh-remote%2Bbing-nexa-ai/home/bing/kaggle/optiver-trading-at-the-close/bing_model.ipynb#W4sdnNjb2RlLXJlbW90ZQ%3D%3D?line=24'>25</a>\u001b[0m \u001b[39mfor\u001b[39;00m cur_fold \u001b[39min\u001b[39;00m tqdm(\u001b[39mrange\u001b[39m(n_fold)):\n\u001b[0;32m---> <a href='vscode-notebook-cell://ssh-remote%2Bbing-nexa-ai/home/bing/kaggle/optiver-trading-at-the-close/bing_model.ipynb#W4sdnNjb2RlLXJlbW90ZQ%3D%3D?line=25'>26</a>\u001b[0m     train(model_dict, \u001b[39m'\u001b[39;49m\u001b[39mlgb\u001b[39;49m\u001b[39m'\u001b[39;49m, cur_fold, n_fold)\n\u001b[1;32m     <a href='vscode-notebook-cell://ssh-remote%2Bbing-nexa-ai/home/bing/kaggle/optiver-trading-at-the-close/bing_model.ipynb#W4sdnNjb2RlLXJlbW90ZQ%3D%3D?line=27'>28</a>\u001b[0m models\n",
      "\u001b[1;32m/home/bing/kaggle/optiver-trading-at-the-close/bing_model.ipynb Cell 8\u001b[0m line \u001b[0;36m1\n\u001b[1;32m     <a href='vscode-notebook-cell://ssh-remote%2Bbing-nexa-ai/home/bing/kaggle/optiver-trading-at-the-close/bing_model.ipynb#W4sdnNjb2RlLXJlbW90ZQ%3D%3D?line=16'>17</a>\u001b[0m \u001b[39mdef\u001b[39;00m \u001b[39mtrain\u001b[39m(model_dict, model_name, cur_fold, n_fold):\n\u001b[1;32m     <a href='vscode-notebook-cell://ssh-remote%2Bbing-nexa-ai/home/bing/kaggle/optiver-trading-at-the-close/bing_model.ipynb#W4sdnNjb2RlLXJlbW90ZQ%3D%3D?line=17'>18</a>\u001b[0m     model \u001b[39m=\u001b[39m model_dict[model_name]\n\u001b[0;32m---> <a href='vscode-notebook-cell://ssh-remote%2Bbing-nexa-ai/home/bing/kaggle/optiver-trading-at-the-close/bing_model.ipynb#W4sdnNjb2RlLXJlbW90ZQ%3D%3D?line=18'>19</a>\u001b[0m     model\u001b[39m.\u001b[39;49mfit(X[idx \u001b[39m%\u001b[39;49m n_fold \u001b[39m!=\u001b[39;49m cur_fold], y[idx \u001b[39m%\u001b[39;49m n_fold \u001b[39m!=\u001b[39;49m cur_fold],\n\u001b[1;32m     <a href='vscode-notebook-cell://ssh-remote%2Bbing-nexa-ai/home/bing/kaggle/optiver-trading-at-the-close/bing_model.ipynb#W4sdnNjb2RlLXJlbW90ZQ%3D%3D?line=19'>20</a>\u001b[0m             eval_set \u001b[39m=\u001b[39;49m [X[idx \u001b[39m%\u001b[39;49m n_fold \u001b[39m==\u001b[39;49m cur_fold], y[idx \u001b[39m%\u001b[39;49m n_fold \u001b[39m==\u001b[39;49m cur_fold]])\n\u001b[1;32m     <a href='vscode-notebook-cell://ssh-remote%2Bbing-nexa-ai/home/bing/kaggle/optiver-trading-at-the-close/bing_model.ipynb#W4sdnNjb2RlLXJlbW90ZQ%3D%3D?line=20'>21</a>\u001b[0m     models\u001b[39m.\u001b[39mappend(model)\n\u001b[1;32m     <a href='vscode-notebook-cell://ssh-remote%2Bbing-nexa-ai/home/bing/kaggle/optiver-trading-at-the-close/bing_model.ipynb#W4sdnNjb2RlLXJlbW90ZQ%3D%3D?line=21'>22</a>\u001b[0m     joblib\u001b[39m.\u001b[39mdump(model, \u001b[39mf\u001b[39m\u001b[39m'\u001b[39m\u001b[39mmodels/\u001b[39m\u001b[39m{\u001b[39;00mmodel_name\u001b[39m}\u001b[39;00m\u001b[39m_\u001b[39m\u001b[39m{\u001b[39;00mcur_fold\u001b[39m}\u001b[39;00m\u001b[39m_model\u001b[39m\u001b[39m'\u001b[39m)\n",
      "File \u001b[0;32m~/.conda/envs/kaggle/lib/python3.10/site-packages/lightgbm/sklearn.py:1049\u001b[0m, in \u001b[0;36mLGBMRegressor.fit\u001b[0;34m(self, X, y, sample_weight, init_score, eval_set, eval_names, eval_sample_weight, eval_init_score, eval_metric, feature_name, categorical_feature, callbacks, init_model)\u001b[0m\n\u001b[1;32m   1032\u001b[0m \u001b[39mdef\u001b[39;00m \u001b[39mfit\u001b[39m(  \u001b[39m# type: ignore[override]\u001b[39;00m\n\u001b[1;32m   1033\u001b[0m     \u001b[39mself\u001b[39m,\n\u001b[1;32m   1034\u001b[0m     X: _LGBM_ScikitMatrixLike,\n\u001b[0;32m   (...)\u001b[0m\n\u001b[1;32m   1046\u001b[0m     init_model: Optional[Union[\u001b[39mstr\u001b[39m, Path, Booster, LGBMModel]] \u001b[39m=\u001b[39m \u001b[39mNone\u001b[39;00m\n\u001b[1;32m   1047\u001b[0m ) \u001b[39m-\u001b[39m\u001b[39m>\u001b[39m \u001b[39m\"\u001b[39m\u001b[39mLGBMRegressor\u001b[39m\u001b[39m\"\u001b[39m:\n\u001b[1;32m   1048\u001b[0m \u001b[39m    \u001b[39m\u001b[39m\"\"\"Docstring is inherited from the LGBMModel.\"\"\"\u001b[39;00m\n\u001b[0;32m-> 1049\u001b[0m     \u001b[39msuper\u001b[39;49m()\u001b[39m.\u001b[39;49mfit(\n\u001b[1;32m   1050\u001b[0m         X,\n\u001b[1;32m   1051\u001b[0m         y,\n\u001b[1;32m   1052\u001b[0m         sample_weight\u001b[39m=\u001b[39;49msample_weight,\n\u001b[1;32m   1053\u001b[0m         init_score\u001b[39m=\u001b[39;49minit_score,\n\u001b[1;32m   1054\u001b[0m         eval_set\u001b[39m=\u001b[39;49meval_set,\n\u001b[1;32m   1055\u001b[0m         eval_names\u001b[39m=\u001b[39;49meval_names,\n\u001b[1;32m   1056\u001b[0m         eval_sample_weight\u001b[39m=\u001b[39;49meval_sample_weight,\n\u001b[1;32m   1057\u001b[0m         eval_init_score\u001b[39m=\u001b[39;49meval_init_score,\n\u001b[1;32m   1058\u001b[0m         eval_metric\u001b[39m=\u001b[39;49meval_metric,\n\u001b[1;32m   1059\u001b[0m         feature_name\u001b[39m=\u001b[39;49mfeature_name,\n\u001b[1;32m   1060\u001b[0m         categorical_feature\u001b[39m=\u001b[39;49mcategorical_feature,\n\u001b[1;32m   1061\u001b[0m         callbacks\u001b[39m=\u001b[39;49mcallbacks,\n\u001b[1;32m   1062\u001b[0m         init_model\u001b[39m=\u001b[39;49minit_model\n\u001b[1;32m   1063\u001b[0m     )\n\u001b[1;32m   1064\u001b[0m     \u001b[39mreturn\u001b[39;00m \u001b[39mself\u001b[39m\n",
      "File \u001b[0;32m~/.conda/envs/kaggle/lib/python3.10/site-packages/lightgbm/sklearn.py:770\u001b[0m, in \u001b[0;36mLGBMModel.fit\u001b[0;34m(self, X, y, sample_weight, init_score, group, eval_set, eval_names, eval_sample_weight, eval_class_weight, eval_init_score, eval_group, eval_metric, feature_name, categorical_feature, callbacks, init_model)\u001b[0m\n\u001b[1;32m    767\u001b[0m params[\u001b[39m'\u001b[39m\u001b[39mmetric\u001b[39m\u001b[39m'\u001b[39m] \u001b[39m=\u001b[39m [metric \u001b[39mfor\u001b[39;00m metric \u001b[39min\u001b[39;00m params[\u001b[39m'\u001b[39m\u001b[39mmetric\u001b[39m\u001b[39m'\u001b[39m] \u001b[39mif\u001b[39;00m metric \u001b[39mis\u001b[39;00m \u001b[39mnot\u001b[39;00m \u001b[39mNone\u001b[39;00m]\n\u001b[1;32m    769\u001b[0m \u001b[39mif\u001b[39;00m \u001b[39mnot\u001b[39;00m \u001b[39misinstance\u001b[39m(X, (pd_DataFrame, dt_DataTable)):\n\u001b[0;32m--> 770\u001b[0m     _X, _y \u001b[39m=\u001b[39m _LGBMCheckXY(X, y, accept_sparse\u001b[39m=\u001b[39;49m\u001b[39mTrue\u001b[39;49;00m, force_all_finite\u001b[39m=\u001b[39;49m\u001b[39mFalse\u001b[39;49;00m, ensure_min_samples\u001b[39m=\u001b[39;49m\u001b[39m2\u001b[39;49m)\n\u001b[1;32m    771\u001b[0m     \u001b[39mif\u001b[39;00m sample_weight \u001b[39mis\u001b[39;00m \u001b[39mnot\u001b[39;00m \u001b[39mNone\u001b[39;00m:\n\u001b[1;32m    772\u001b[0m         sample_weight \u001b[39m=\u001b[39m _LGBMCheckSampleWeight(sample_weight, _X)\n",
      "File \u001b[0;32m~/.conda/envs/kaggle/lib/python3.10/site-packages/sklearn/utils/validation.py:1146\u001b[0m, in \u001b[0;36mcheck_X_y\u001b[0;34m(X, y, accept_sparse, accept_large_sparse, dtype, order, copy, force_all_finite, ensure_2d, allow_nd, multi_output, ensure_min_samples, ensure_min_features, y_numeric, estimator)\u001b[0m\n\u001b[1;32m   1141\u001b[0m         estimator_name \u001b[39m=\u001b[39m _check_estimator_name(estimator)\n\u001b[1;32m   1142\u001b[0m     \u001b[39mraise\u001b[39;00m \u001b[39mValueError\u001b[39;00m(\n\u001b[1;32m   1143\u001b[0m         \u001b[39mf\u001b[39m\u001b[39m\"\u001b[39m\u001b[39m{\u001b[39;00mestimator_name\u001b[39m}\u001b[39;00m\u001b[39m requires y to be passed, but the target y is None\u001b[39m\u001b[39m\"\u001b[39m\n\u001b[1;32m   1144\u001b[0m     )\n\u001b[0;32m-> 1146\u001b[0m X \u001b[39m=\u001b[39m check_array(\n\u001b[1;32m   1147\u001b[0m     X,\n\u001b[1;32m   1148\u001b[0m     accept_sparse\u001b[39m=\u001b[39;49maccept_sparse,\n\u001b[1;32m   1149\u001b[0m     accept_large_sparse\u001b[39m=\u001b[39;49maccept_large_sparse,\n\u001b[1;32m   1150\u001b[0m     dtype\u001b[39m=\u001b[39;49mdtype,\n\u001b[1;32m   1151\u001b[0m     order\u001b[39m=\u001b[39;49morder,\n\u001b[1;32m   1152\u001b[0m     copy\u001b[39m=\u001b[39;49mcopy,\n\u001b[1;32m   1153\u001b[0m     force_all_finite\u001b[39m=\u001b[39;49mforce_all_finite,\n\u001b[1;32m   1154\u001b[0m     ensure_2d\u001b[39m=\u001b[39;49mensure_2d,\n\u001b[1;32m   1155\u001b[0m     allow_nd\u001b[39m=\u001b[39;49mallow_nd,\n\u001b[1;32m   1156\u001b[0m     ensure_min_samples\u001b[39m=\u001b[39;49mensure_min_samples,\n\u001b[1;32m   1157\u001b[0m     ensure_min_features\u001b[39m=\u001b[39;49mensure_min_features,\n\u001b[1;32m   1158\u001b[0m     estimator\u001b[39m=\u001b[39;49mestimator,\n\u001b[1;32m   1159\u001b[0m     input_name\u001b[39m=\u001b[39;49m\u001b[39m\"\u001b[39;49m\u001b[39mX\u001b[39;49m\u001b[39m\"\u001b[39;49m,\n\u001b[1;32m   1160\u001b[0m )\n\u001b[1;32m   1162\u001b[0m y \u001b[39m=\u001b[39m _check_y(y, multi_output\u001b[39m=\u001b[39mmulti_output, y_numeric\u001b[39m=\u001b[39my_numeric, estimator\u001b[39m=\u001b[39mestimator)\n\u001b[1;32m   1164\u001b[0m check_consistent_length(X, y)\n",
      "File \u001b[0;32m~/.conda/envs/kaggle/lib/python3.10/site-packages/sklearn/utils/validation.py:967\u001b[0m, in \u001b[0;36mcheck_array\u001b[0;34m(array, accept_sparse, accept_large_sparse, dtype, order, copy, force_all_finite, ensure_2d, allow_nd, ensure_min_samples, ensure_min_features, estimator, input_name)\u001b[0m\n\u001b[1;32m    965\u001b[0m     n_samples \u001b[39m=\u001b[39m _num_samples(array)\n\u001b[1;32m    966\u001b[0m     \u001b[39mif\u001b[39;00m n_samples \u001b[39m<\u001b[39m ensure_min_samples:\n\u001b[0;32m--> 967\u001b[0m         \u001b[39mraise\u001b[39;00m \u001b[39mValueError\u001b[39;00m(\n\u001b[1;32m    968\u001b[0m             \u001b[39m\"\u001b[39m\u001b[39mFound array with \u001b[39m\u001b[39m%d\u001b[39;00m\u001b[39m sample(s) (shape=\u001b[39m\u001b[39m%s\u001b[39;00m\u001b[39m) while a\u001b[39m\u001b[39m\"\u001b[39m\n\u001b[1;32m    969\u001b[0m             \u001b[39m\"\u001b[39m\u001b[39m minimum of \u001b[39m\u001b[39m%d\u001b[39;00m\u001b[39m is required\u001b[39m\u001b[39m%s\u001b[39;00m\u001b[39m.\u001b[39m\u001b[39m\"\u001b[39m\n\u001b[1;32m    970\u001b[0m             \u001b[39m%\u001b[39m (n_samples, array\u001b[39m.\u001b[39mshape, ensure_min_samples, context)\n\u001b[1;32m    971\u001b[0m         )\n\u001b[1;32m    973\u001b[0m \u001b[39mif\u001b[39;00m ensure_min_features \u001b[39m>\u001b[39m \u001b[39m0\u001b[39m \u001b[39mand\u001b[39;00m array\u001b[39m.\u001b[39mndim \u001b[39m==\u001b[39m \u001b[39m2\u001b[39m:\n\u001b[1;32m    974\u001b[0m     n_features \u001b[39m=\u001b[39m array\u001b[39m.\u001b[39mshape[\u001b[39m1\u001b[39m]\n",
      "\u001b[0;31mValueError\u001b[0m: Found array with 0 sample(s) (shape=(0, 54)) while a minimum of 2 is required."
     ]
    }
   ],
   "source": [
    "model_dict = {\n",
    "    'lgb': lgb.LGBMRegressor(objective = 'regression_l1', n_estimators = 50),\n",
    "    'xgb': xgb.XGBRegressor(tree_method = 'hist', objective = 'reg: absoluteerror', n_estimators = 50),\n",
    "    'cbt': cbt.CatBoostRegressor(objective = 'MAE', iterations = 300)\n",
    "}\n",
    "\n",
    "X = df.values\n",
    "y = df['target'].values\n",
    "X = X[np.isfinite(y)]\n",
    "y = y[np.isfinite(y)]\n",
    "\n",
    "idx = np.arange(len(X))\n",
    "\n",
    "models = []\n",
    "n_fold = 1\n",
    "\n",
    "def train(model_dict, model_name, cur_fold, n_fold):\n",
    "    model = model_dict[model_name]\n",
    "    model.fit(X[idx % n_fold != cur_fold], y[idx % n_fold != cur_fold],\n",
    "            eval_set = [X[idx % n_fold == cur_fold], y[idx % n_fold == cur_fold]])\n",
    "    models.append(model)\n",
    "    joblib.dump(model, f'models/{model_name}_{cur_fold}_model')\n",
    "    return \n",
    "\n",
    "for cur_fold in tqdm(range(n_fold)):\n",
    "    train(model_dict, 'lgb', cur_fold, n_fold)\n",
    "\n",
    "models\n"
   ]
  },
  {
   "cell_type": "code",
   "execution_count": 2,
   "metadata": {},
   "outputs": [
    {
     "name": "stdout",
     "output_type": "stream",
     "text": [
      "Fold 0:\n",
      "[0 1 2 3 4 5 6 7 8 9] 5 0\n",
      "  Training Indices: [1 2 3 4 6 7 8 9]\n",
      "  Testing Indices: [0 5]\n",
      "Fold 1:\n",
      "[0 1 2 3 4 5 6 7 8 9] 5 1\n",
      "  Training Indices: [0 2 3 4 5 7 8 9]\n",
      "  Testing Indices: [1 6]\n",
      "Fold 2:\n",
      "[0 1 2 3 4 5 6 7 8 9] 5 2\n",
      "  Training Indices: [0 1 3 4 5 6 8 9]\n",
      "  Testing Indices: [2 7]\n",
      "Fold 3:\n",
      "[0 1 2 3 4 5 6 7 8 9] 5 3\n",
      "  Training Indices: [0 1 2 4 5 6 7 9]\n",
      "  Testing Indices: [3 8]\n",
      "Fold 4:\n",
      "[0 1 2 3 4 5 6 7 8 9] 5 4\n",
      "  Training Indices: [0 1 2 3 5 6 7 8]\n",
      "  Testing Indices: [4 9]\n"
     ]
    }
   ],
   "source": [
    "import numpy as np\n",
    "\n",
    "# Example data\n",
    "index = np.arange(10)  # [0, 1, 2, 3, 4, 5, 6, 7, 8, 9]\n",
    "N_fold = 5\n",
    "\n",
    "# Let's simulate the cross-validation loop\n",
    "for i in range(N_fold):\n",
    "    print(f\"Fold {i}:\")\n",
    "\n",
    "    # Calculate the boolean masks\n",
    "    print(index, N_fold, i)\n",
    "    train_mask = index % N_fold != i\n",
    "    test_mask = index % N_fold == i\n",
    "\n",
    "    # Select training and testing data\n",
    "    train_indices = index[train_mask]\n",
    "    test_indices = index[test_mask]\n",
    "\n",
    "    print(\"  Training Indices:\", train_indices)\n",
    "    print(\"  Testing Indices:\", test_indices)\n"
   ]
  },
  {
   "cell_type": "code",
   "execution_count": 1,
   "metadata": {},
   "outputs": [
    {
     "name": "stdout",
     "output_type": "stream",
     "text": [
      "hello\n"
     ]
    }
   ],
   "source": [
    "print('hello')"
   ]
  },
  {
   "cell_type": "code",
   "execution_count": null,
   "metadata": {},
   "outputs": [],
   "source": []
  }
 ],
 "metadata": {
  "kernelspec": {
   "display_name": "kaggle",
   "language": "python",
   "name": "python3"
  },
  "language_info": {
   "codemirror_mode": {
    "name": "ipython",
    "version": 3
   },
   "file_extension": ".py",
   "mimetype": "text/x-python",
   "name": "python",
   "nbconvert_exporter": "python",
   "pygments_lexer": "ipython3",
   "version": "3.10.13"
  }
 },
 "nbformat": 4,
 "nbformat_minor": 2
}
